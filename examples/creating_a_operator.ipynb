{
 "cells": [
  {
   "cell_type": "markdown",
   "metadata": {},
   "source": [
    "# Creating a Operator"
   ]
  },
  {
   "cell_type": "code",
   "execution_count": 70,
   "metadata": {},
   "outputs": [
    {
     "name": "stdout",
     "output_type": "stream",
     "text": [
      "Requirement already satisfied: python-dotenv in /Users/anthonydemattos/syyclops/open-operator/venv/lib/python3.10/site-packages (1.0.1)\n",
      "\u001b[33mWARNING: There was an error checking the latest version of pip.\u001b[0m\u001b[33m\n",
      "\u001b[0mNote: you may need to restart the kernel to use updated packages.\n",
      "The autoreload extension is already loaded. To reload it, use:\n",
      "  %reload_ext autoreload\n"
     ]
    }
   ],
   "source": [
    "import sys\n",
    "sys.path.insert(0, '../') \n",
    "%pip install python-dotenv\n",
    "from dotenv import load_dotenv\n",
    "load_dotenv()\n",
    "%load_ext autoreload\n",
    "%autoreload 2"
   ]
  },
  {
   "cell_type": "code",
   "execution_count": 2,
   "metadata": {},
   "outputs": [],
   "source": [
    "# Use the different modules to create an operator instance\n",
    "from openoperator import OpenOperator\n",
    "from openoperator.blob_store import AzureBlobStore\n",
    "from openoperator.document_loader import UnstructuredDocumentLoader\n",
    "from openoperator.vector_store import PGVectorStore\n",
    "from openoperator.embeddings import OpenAIEmbeddings\n",
    "from openoperator.knowledge_graph import KnowledgeGraph\n",
    "from openoperator.llm import OpenAILLM\n",
    "\n",
    "# Create the different modules that are needed for the operator\n",
    "blob_store = AzureBlobStore()\n",
    "document_loader = UnstructuredDocumentLoader()\n",
    "embeddings = OpenAIEmbeddings()\n",
    "vector_store = PGVectorStore(embeddings=embeddings)\n",
    "knowledge_graph = KnowledgeGraph()\n",
    "llm = OpenAILLM(model_name=\"gpt-4-0125-preview\")\n",
    "\n",
    "operator = OpenOperator(\n",
    "    blob_store=blob_store,\n",
    "    document_loader=document_loader,\n",
    "    vector_store=vector_store,\n",
    "    embeddings=embeddings,\n",
    "    knowledge_graph=knowledge_graph,\n",
    "    llm=llm\n",
    ")"
   ]
  },
  {
   "cell_type": "markdown",
   "metadata": {},
   "source": [
    "## Create a Portfolio and a Facility"
   ]
  },
  {
   "cell_type": "code",
   "execution_count": 3,
   "metadata": {},
   "outputs": [],
   "source": [
    "portfolio = operator.create_portfolio('Setty & Associates')\n",
    "facility = portfolio.create_facility('DC Office')"
   ]
  },
  {
   "cell_type": "markdown",
   "metadata": {},
   "source": [
    "## Lets load all the files for the facility"
   ]
  },
  {
   "cell_type": "code",
   "execution_count": 4,
   "metadata": {},
   "outputs": [],
   "source": [
    "import mimetypes\n",
    "import os\n",
    "directory_path = \"setty_office_data/documents/\" \n",
    "\n",
    "for filename in os.listdir(directory_path):\n",
    "    file_path = os.path.join(directory_path, filename)\n",
    "    if os.path.isfile(file_path):\n",
    "        file_type = mimetypes.guess_type(file_path)[0]\n",
    "        with open(file_path, 'rb') as file:\n",
    "            file_content = file.read()\n",
    "            facility.upload_document(file_content, filename, file_type=file_type)"
   ]
  },
  {
   "cell_type": "markdown",
   "metadata": {},
   "source": [
    "## Now we can search through all the data within those documents"
   ]
  },
  {
   "cell_type": "code",
   "execution_count": 5,
   "metadata": {},
   "outputs": [
    {
     "data": {
      "text/plain": [
       "[{'content': 'AHU SCHEDULE\\n\\nOmniClass Number\\n\\n23.33.39.17.13.11 23.33.39.17.13.11\\n\\nOmniClass Title\\n\\nAir Cooled Single Pack Packaged Air Conditioners Air Cooled Single Pack Packaged Air Conditioners\\n\\nMark\\n\\nAHU-1 AHU-2\\n\\nFuel Type\\n\\nNATURAL GAS NATURAL GAS\\n\\nInternal Efficiency (%) 82 82\\n\\nMax External Static Pressure 1\" W.C 1\" W.C\\n\\nCFM (nominal) Heating Input Max.\\n\\n0 CFM 0 CFM\\n\\n224000 BTU/Hr 224000 BTU/Hr\\n\\ncooling\\n\\nHeating Output Capacity\\n\\n140000 BTU/Hr 184000 BTU/Hr 140000 BTU/Hr 184000 BTU/Hr\\n\\nEER\\n\\n10.8 10.8\\n\\nCOMPRESSOR A LRA 123 123',\n",
       "  'metadata': {'file_url': 'https://syystorage.blob.core.windows.net/open-operator-2/2023-12-30_DC%20Office_Mechanical.pdf',\n",
       "   'filename': '2023-12-30_DC Office_Mechanical.pdf',\n",
       "   'filetype': 'application/pdf',\n",
       "   'languages': ['eng'],\n",
       "   'page_number': 7,\n",
       "   'facility_uri': 'https://openoperator.com/setty%20%26%20associates/dc%20office',\n",
       "   'portfolio_uri': 'https://openoperator.com/setty%20%26%20associates'}},\n",
       " {'content': 'AC AF AFF AHU AI AO APD ARCH AS ATC\\n\\nBBH BHP BLDG BLW BS BTUH\\n\\nCAC CC CD CFM CG CH CHP CHWS CHWR CLG CO CV CU\\n\\nDB DDC DI DIA DN DO DO DPS DWG\\n\\nEA EAT\\n\\nEDH EF EQUIP ETR EUH EWT EXIST EXT EX.\\n\\nF\\n\\nFCU FD FF FL FPM FSD FT FT\\n\\nFTR FZ\\n\\nGPM GF\\n\\nHC\\n\\nHP\\n\\nHR HS HWS HWR\\n\\nIN IU\\n\\nKW\\n\\nLAT\\n\\nLB\\n\\nLF LWT\\n\\nMAX MBH MECH MIN MOCP MTD MFG MFGR\\n\\nNC NC\\n\\nNFPA\\n\\nNIC NO NOM No.\\n\\nOA OAT\\n\\nP\\n\\nPD PS PSI\\n\\nRA RAT\\n\\nRD RF RG RHC RHVAV RLA RLF RPM\\n\\nSHEET 01 02 03 04 05 06 07 08\\n\\nABBREVIATIONS\\n\\nAIR CONDITIONING UNIT AIR FILTER ABOVE FINISHED FLOOR AIR HANDLING UNIT ANALOG INPUT ANALOG OUTPUT AIR PRESSURE DROP ARCHITECTURAL AIR SEPARATOR AUTO TEMPERATURE CONTROL\\n\\nBASEBOARD HEATER BRAKE HORSEPOWER BUILDING BELOW BIRD SCREEN BRITISH THERMAL UNIT PER HOUR',\n",
       "  'metadata': {'file_url': 'https://syystorage.blob.core.windows.net/open-operator-2/2023-12-30_DC%20Office_Mechanical.pdf',\n",
       "   'filename': '2023-12-30_DC Office_Mechanical.pdf',\n",
       "   'filetype': 'application/pdf',\n",
       "   'languages': ['eng'],\n",
       "   'page_number': 1,\n",
       "   'facility_uri': 'https://openoperator.com/setty%20%26%20associates/dc%20office',\n",
       "   'portfolio_uri': 'https://openoperator.com/setty%20%26%20associates'}}]"
      ]
     },
     "execution_count": 5,
     "metadata": {},
     "output_type": "execute_result"
    }
   ],
   "source": [
    "# Search for metadata in documents\n",
    "docs = facility.search_documents({\n",
    "    \"query\": \"AHU\",\n",
    "    \"limit\": 2\n",
    "})\n",
    "docs"
   ]
  },
  {
   "cell_type": "markdown",
   "metadata": {},
   "source": [
    "## Upload COBie spreadsheets"
   ]
  },
  {
   "cell_type": "code",
   "execution_count": null,
   "metadata": {},
   "outputs": [],
   "source": [
    "import os\n",
    "directory_path = \"setty_office_data/cobie_sheets/\"\n",
    "\n",
    "for filename in os.listdir(directory_path):\n",
    "    file_path = os.path.join(directory_path, filename)\n",
    "    if os.path.isfile(file_path):\n",
    "        with open(file_path, 'rb') as file:\n",
    "            file_content = file.read()\n",
    "            errors_found, errors = facility.upload_cobie_spreadsheet(file_content)\n",
    "            if errors_found:\n",
    "                print(f\"Errors found in {filename}: {errors}\")"
   ]
  },
  {
   "cell_type": "markdown",
   "metadata": {},
   "source": [
    "## Upload Bacnet data "
   ]
  },
  {
   "cell_type": "code",
   "execution_count": 6,
   "metadata": {},
   "outputs": [],
   "source": [
    "with open(\"../data/dunbar/dunbar_bacnet.json\", 'rb') as file:\n",
    "    file_content = file.read()\n",
    "    facility.bas.upload_bacnet_data(file_content)"
   ]
  },
  {
   "cell_type": "code",
   "execution_count": null,
   "metadata": {},
   "outputs": [],
   "source": [
    "facility.bas.devices()"
   ]
  },
  {
   "cell_type": "markdown",
   "metadata": {},
   "source": [
    "## Chat with the AI Assistant"
   ]
  },
  {
   "cell_type": "code",
   "execution_count": 19,
   "metadata": {},
   "outputs": [
    {
     "name": "stdout",
     "output_type": "stream",
     "text": [
      "Tool Selected: search_building_documents\n",
      "Tool args: {'query': 'air handling units schedule'}\n",
      "Tool response:\n",
      "[\n",
      "  {\n",
      "    \"content\": \"AIR DEVICE SCHEDULE\\n\\nOmniClass Number\\n\\n23.33.43.15\\n\\n23.33.43.15\\n\\n23.33.43.15\\n\\nOmniClass Title Refrigeration Condenser Units Refrigeration Condenser Units Refrigeration Condenser Units\\n\\nMark\\n\\nACCU-1\\n\\nACCU-2\\n\\nACCU-3\\n\\nManufacturer\\n\\nMitsubishi Electric\\n\\nMitsubishi Electric\\n\\nMitsubishi Electric\\n\\nOmniClass Number\\n\\n23.33.39.21\\n\\n23.33.39.21\\n\\n23.33.39.21\\n\\nOmniClass Title Split System Air Conditioning Units Split System Air Conditioning Units Split System Air Conditioning Units\\n\\nMark\\n\\nManufacturer\\n\\nAC-1 Mitsubishi Electric\",\n",
      "    \"metadata\": {\n",
      "      \"file_url\": \"https://syystorage.blob.core.windows.net/open-operator-2/2023-12-30_DC%20Office_Mechanical.pdf\",\n",
      "      \"filename\": \"2023-12-30_DC Office_Mechanical.pdf\",\n",
      "      \"filetype\": \"application/pdf\",\n",
      "      \"languages\": [\n",
      "        \"eng\"\n",
      "      ],\n",
      "      \"page_number\": 7,\n",
      "      \"facility_uri\": \"https://openoperator.com/setty%20engineering%20test/dc%20office\",\n",
      "      \"portfolio_uri\": \"https://openoperator.com/setty%20engineering%20test\"\n",
      "    }\n",
      "  },\n",
      "  {\n",
      "    \"content\": \"AHU SCHEDULE\\n\\nOmniClass Number\\n\\n23.33.39.17.13.11 23.33.39.17.13.11\\n\\nOmniClass Title\\n\\nAir Cooled Single Pack Packaged Air Conditioners Air Cooled Single Pack Packaged Air Conditioners\\n\\nMark\\n\\nAHU-1 AHU-2\\n\\nFuel Type\\n\\nNATURAL GAS NATURAL GAS\\n\\nInternal Efficiency (%) 82 82\\n\\nMax External Static Pressure 1\\\" W.C 1\\\" W.C\\n\\nCFM (nominal) Heating Input Max.\\n\\n0 CFM 0 CFM\\n\\n224000 BTU/Hr 224000 BTU/Hr\\n\\ncooling\\n\\nHeating Output Capacity\\n\\n140000 BTU/Hr 184000 BTU/Hr 140000 BTU/Hr 184000 BTU/Hr\\n\\nEER\\n\\n10.8 10.8\\n\\nCOMPRESSOR A LRA 123 123\",\n",
      "    \"metadata\": {\n",
      "      \"file_url\": \"https://syystorage.blob.core.windows.net/open-operator-2/2023-12-30_DC%20Office_Mechanical.pdf\",\n",
      "      \"filename\": \"2023-12-30_DC Office_Mechanical.pdf\",\n",
      "      \"filetype\": \"application/pdf\",\n",
      "      \"languages\": [\n",
      "        \"eng\"\n",
      "      ],\n",
      "      \"page_number\": 7,\n",
      "      \"facility_uri\": \"https://openoperator.com/setty%20engineering%20test/dc%20office\",\n",
      "      \"portfolio_uri\": \"https://openoperator.com/setty%20engineering%20test\"\n",
      "    }\n",
      "  },\n",
      "  {\n",
      "    \"content\": \"AC AF AFF AHU AI AO APD ARCH AS ATC\\n\\nBBH BHP BLDG BLW BS BTUH\\n\\nCAC CC CD CFM CG CH CHP CHWS CHWR CLG CO CV CU\\n\\nDB DDC DI DIA DN DO DO DPS DWG\\n\\nEA EAT\\n\\nEDH EF EQUIP ETR EUH EWT EXIST EXT EX.\\n\\nF\\n\\nFCU FD FF FL FPM FSD FT FT\\n\\nFTR FZ\\n\\nGPM GF\\n\\nHC\\n\\nHP\\n\\nHR HS HWS HWR\\n\\nIN IU\\n\\nKW\\n\\nLAT\\n\\nLB\\n\\nLF LWT\\n\\nMAX MBH MECH MIN MOCP MTD MFG MFGR\\n\\nNC NC\\n\\nNFPA\\n\\nNIC NO NOM No.\\n\\nOA OAT\\n\\nP\\n\\nPD PS PSI\\n\\nRA RAT\\n\\nRD RF RG RHC RHVAV RLA RLF RPM\\n\\nSHEET 01 02 03 04 05 06 07 08\\n\\nABBREVIATIONS\\n\\nAIR CONDITIONING UNIT AIR FILTER ABOVE FINISHED FLOOR AIR HANDLING UNIT ANALOG INPUT ANALOG OUTPUT AIR PRESSURE DROP ARCHITECTURAL AIR SEPARATOR AUTO TEMPERATURE CONTROL\\n\\nBASEBOARD HEATER BRAKE HORSEPOWER BUILDING BELOW BIRD SCREEN BRITISH THERMAL UNIT PER HOUR\",\n",
      "    \"metadata\": {\n",
      "      \"file_url\": \"https://syystorage.blob.core.windows.net/open-operator-2/2023-12-30_DC%20Office_Mechanical.pdf\",\n",
      "      \"filename\": \"2023-12-30_DC Office_Mechanical.pdf\",\n",
      "      \"filetype\": \"application/pdf\",\n",
      "      \"languages\": [\n",
      "        \"eng\"\n",
      "      ],\n",
      "      \"page_number\": 1,\n",
      "      \"facility_uri\": \"https://openoperator.com/setty%20engineering%20test/dc%20office\",\n",
      "      \"portfolio_uri\": \"https://openoperator.com/setty%20engineering%20test\"\n",
      "    }\n",
      "  },\n",
      "  {\n",
      "    \"content\": \"l\\n\\nC\\n\\nAHU-1\\n\\nSG-1 450\\n\\nEF-3\\n\\n10x12 SA\\n\\nEF-3\\n\\n10x10 SA\\n\\nSG-1 450\\n\\n40x12 RA DUCT DN\\n\\n30x14 SA DUCT DN\\n\\n36x14 SA\\n\\nOFFICE 101 291 SF\\n\\n12x10 SA\\n\\nOFFICE 114 308 SF\\n\\nAHU-2\\n\\n24x12 RA\\n\\nOFFICE 102 108 SF\\n\\nOFFICE 103 102 SF\\n\\n30x14 SA\\n\\n30x12 SA\\n\\nRoom 115 372 SF\\n\\n14x10 SA\\n\\nRD-1 450\\n\\nOFFICE 113 69 SF\\n\\nOFFICE 112 71 SF\\n\\n1 M102\\n\\nUPPER LEVEL PLAN - MECHANICAL DUCTWORK SCALE:\\n\\n1/4\\\" = 1'-0\\\"\\n\\n0\\n\\n2'\\n\\n4'\\n\\n8'\\n\\nACCU-1\\n\\nACCU-2\\n\\nRESTROOM 105 30 SF\\n\\nEF-1 50\\n\\nEF-1 50\\n\\nRESTROOM 104 36 SF\\n\\n24x12 SA\\n\\nVESTIBULE 111 53 SF\\n\\nACCU-3\\n\\n24x12 RA\",\n",
      "    \"metadata\": {\n",
      "      \"file_url\": \"https://syystorage.blob.core.windows.net/open-operator-2/2023-12-30_DC%20Office_Mechanical.pdf\",\n",
      "      \"filename\": \"2023-12-30_DC Office_Mechanical.pdf\",\n",
      "      \"filetype\": \"application/pdf\",\n",
      "      \"languages\": [\n",
      "        \"eng\"\n",
      "      ],\n",
      "      \"page_number\": 3,\n",
      "      \"facility_uri\": \"https://openoperator.com/setty%20engineering%20test/dc%20office\",\n",
      "      \"portfolio_uri\": \"https://openoperator.com/setty%20engineering%20test\"\n",
      "    }\n",
      "  },\n",
      "  {\n",
      "    \"content\": \"j\\n\\nl\\n\\nl\\n\\n.\\n\\nC\\n\\nUNIT MARK\\n\\nAC AC-1 AC-2 AC-3 ACCU-1 ACCU-2 ACCU-3 AHU-1,2 EF-1 EF-2 EF-3 PMP-1 PMP-2 PMP-3 PMP-4 PMP-5 PMP-6\\n\\nUNIT MARK\\n\\nDWH-1\\n\\nUNIT DISCRIPTION\\n\\nPORTABLE AC SPLIT SYSTEM INDOOR UNIT SPLIT SYSTEM INDOOR UNIT SPLIT SYSTEM INDOOR UNIT SPLIT SYSTEM OUTDOOR UNIT SPLIT SYSTEM OUTDOOR UNIT SPLIT SYSTEM OUTDOOR UNIT AIR HANDLING - SUPPLY UNIT/RETURN UNIT EXHAUST FAN EXHAUST FAN EXHAUST FAN PUMP PUMP PUMP PUMP PUMP PUMP\\n\\nUNIT DESCRIPTION\\n\\nDOMESTIC WATER HEATER\\n\\nVOLTAGE\\n\\nPHASE\\n\\n- - - - - - 208 - - - - - - - - -\\n\\n- - - - - - 3 - - - - - - - - -\",\n",
      "    \"metadata\": {\n",
      "      \"file_url\": \"https://syystorage.blob.core.windows.net/open-operator-2/2023-12-29_DC%20Office_Electrical.pdf\",\n",
      "      \"filename\": \"2023-12-29_DC Office_Electrical.pdf\",\n",
      "      \"filetype\": \"application/pdf\",\n",
      "      \"languages\": [\n",
      "        \"eng\"\n",
      "      ],\n",
      "      \"page_number\": 7,\n",
      "      \"facility_uri\": \"https://openoperator.com/setty%20engineering%20test/dc%20office\",\n",
      "      \"portfolio_uri\": \"https://openoperator.com/setty%20engineering%20test\"\n",
      "    }\n",
      "  },\n",
      "  {\n",
      "    \"content\": \"l\\n\\nC\\n\\nFLEXIBLE CONNECTION\\n\\nSQUARE DUCT\\n\\nDISCHARGE OUTLET\\n\\nFAN WHEEL\\n\\nMOUNTING BRACKET\\n\\nEXPANDED ALUMINUM MESH GRILLE (REMOVABLE FOR MOTOR & FAN WHEEL ACCESS)\\n\\nCEILING\\n\\nGRILLE\\n\\nNOTES:\\n\\n1. FANS SHALL BEAR THE AMCA SEAL FOR AIR & SOUND PERFORMANCE. 2. UNIT SHALL HAVE FACTORY MOUNTED TERMINAL BOX. 3. PROVIDE BACKDRAFT DAMPER.\\n\\n5 M701\\n\\nCEILING EXHAUST FAN 1/8\\\" = 1'-0\\\"\\n\\n0\\n\\n6\\\"\\n\\n1'\\n\\n2'\\n\\nDUCT DISCHARGE\\n\\nGRILLE SCREW\\n\\nSEE NOTE 2, 3\\n\\n45\\u00b0 TAP\\n\\nSINGLE BLADE DAMPER\\n\\n4\\\" MINIMUM LENGTH\\n\\nNOTES:\\n\\n1. FOLLOW MANUFACTURER'S INSTALLATION INSTRUCTIONS TO MEET U.L. LISTING. 2. PROVIDE EXTENSION RODS TO ACCOMMODATE INSULATION, PULL TO EDGE OF DUCT AS REQUIRED AND SEAL TO EFFECT VAPOR BARRIER. INSTALL LOCKING QUADRANT AND HANDLE ON BOTTOM OF DUCT FOR EASY SERVICE SHOWN ON TOP FOR EASE OF ILLUSTRATION ONLY.\\n\\n1. FOLLOW MANUFACTURER'S INSTALLATION INSTRUCTIONS TO MEET U.L. LISTING. 2. PROVIDE EXTENSION RODS TO ACCOMMODATE INSULATION, PULL TO EDGE OF DUCT AS REQUIRED AND SEAL TO EFFECT VAPOR BARRIER. INSTALL LOCKING QUADRANT AND HANDLE ON BOTTOM OF DUCT FOR EASY SERVICE SHOWN ON TOP FOR EASE OF ILLUSTRATION ONLY.\\n\\n1 M701\\n\\nVOLUME DAMPER 1/8\\\" = 1'-0\\\"\\n\\n0\\n\\n6\\\"\\n\\n1'\\n\\n2'\",\n",
      "    \"metadata\": {\n",
      "      \"file_url\": \"https://syystorage.blob.core.windows.net/open-operator-2/2023-12-30_DC%20Office_Mechanical.pdf\",\n",
      "      \"filename\": \"2023-12-30_DC Office_Mechanical.pdf\",\n",
      "      \"filetype\": \"application/pdf\",\n",
      "      \"languages\": [\n",
      "        \"eng\"\n",
      "      ],\n",
      "      \"page_number\": 8,\n",
      "      \"facility_uri\": \"https://openoperator.com/setty%20engineering%20test/dc%20office\",\n",
      "      \"portfolio_uri\": \"https://openoperator.com/setty%20engineering%20test\"\n",
      "    }\n",
      "  },\n",
      "  {\n",
      "    \"content\": \"CONDENSING UNIT\\n\\n1\\n\\n2\\n\\nCONCRETE PAD\\n\\nAIR CONDITIONING INDOOR UNIT\\n\\nREFRIGERANT SUCTION\\n\\n1\\n\\nREFRIGERANT LIQUID\\n\\nCONDENSATE DRAIN LINE TO NEAREST FLOOR DRAIN\\n\\nWALL, SEE ARCH PLANS FOR DETAILS.\\n\\nNOTES: 1.\\n\\nINSTALLATION SHALL BE AS PER MANUFACTURER RECOMMENDATION.\\n\\n2. REFRIGERANT SUCTION AND LIQUID PIPING SHALL BE SIZED ACCORDING TO MANUFACTURER RECOMMENDATIONS.\\n\\n2 M701\\n\\nSPLIT AIR CONDITIONER DETAIL (AC-1) 1/8\\\" = 1'-0\\\"\\n\\n0\\n\\n6\\\"\\n\\n1'\\n\\n2'\\n\\nSTRAP HANGERS\\n\\nTRAPEZE HANGERS\\n\\nHANGER STRAPS\\n\\nROD (TABLE 1) L\\n\\n60'' MAX\\n\\nSTRAP OR ANGLE (TABLE 1)\",\n",
      "    \"metadata\": {\n",
      "      \"file_url\": \"https://syystorage.blob.core.windows.net/open-operator-2/2023-12-30_DC%20Office_Mechanical.pdf\",\n",
      "      \"filename\": \"2023-12-30_DC Office_Mechanical.pdf\",\n",
      "      \"filetype\": \"application/pdf\",\n",
      "      \"languages\": [\n",
      "        \"eng\"\n",
      "      ],\n",
      "      \"page_number\": 8,\n",
      "      \"facility_uri\": \"https://openoperator.com/setty%20engineering%20test/dc%20office\",\n",
      "      \"portfolio_uri\": \"https://openoperator.com/setty%20engineering%20test\"\n",
      "    }\n",
      "  },\n",
      "  {\n",
      "    \"content\": \"FAHRENHEIT\\n\\nFAN COIL UNIT FIRE DAMPER FILTER FEEDER FLOOR FEET PER MINUTE FIRE SMOKE DAMPER FEET FLASH TANK\\n\\nFINNED TUBE RADIATOR FREEZE STAT\\n\\nGALLONS PER MINUTE GLYCOL FEEDER\\n\\nHEATING COIL\\n\\nHORSEPOWER / HEAT PUMP\\n\\nHOUR HUMIDITY SENSOR HEATING WATER SUPPLY HEATING WATER RETURN\\n\\nINCH INDUCTION UNIT\\n\\nKILOWATT\\n\\nLEAVING AIR TEMPERATURE\\n\\nPOUNDS\\n\\nLINEAR FEET LEAVING WATER TEMPERATURE\\n\\nMAXIMUM 1000 BTUH MECHANICAL MINIMUM MAXIMUM OVERCURRENT PROTECTION MOUNTED MANUFACTURER MANUFACTURER\\n\\nNOISE CRITERIA NORMALLY CLOSED\",\n",
      "    \"metadata\": {\n",
      "      \"file_url\": \"https://syystorage.blob.core.windows.net/open-operator-2/2023-12-30_DC%20Office_Mechanical.pdf\",\n",
      "      \"filename\": \"2023-12-30_DC Office_Mechanical.pdf\",\n",
      "      \"filetype\": \"application/pdf\",\n",
      "      \"languages\": [\n",
      "        \"eng\"\n",
      "      ],\n",
      "      \"page_number\": 1,\n",
      "      \"facility_uri\": \"https://openoperator.com/setty%20engineering%20test/dc%20office\",\n",
      "      \"portfolio_uri\": \"https://openoperator.com/setty%20engineering%20test\"\n",
      "    }\n",
      "  },\n",
      "  {\n",
      "    \"content\": \"COMPRESSOR A RLA 19.0 19.0\\n\\nCOMPRESSOR B LRA 149 149\\n\\nCOMPRESSOR B RLA 22.4 22.4\\n\\nFLA\\n\\n10 10\\n\\nFrequency\\n\\n60 Hz 60 Hz\\n\\nPhase\\n\\n3 3\\n\\nVoltage\\n\\n208 V 208 V\\n\\nManufacturer\\n\\nCarrier Carrier\\n\\nModel\\n\\n48TC 48TC\\n\\nHYDRONIC PUMP SCHEDULE\\n\\nEXHUAST FAN SCHEDULE\\n\\nOmniClass Number 23.27.17.13 23.27.17.13 23.27.17.13 23.27.17.13 23.27.17.13 23.27.17.13\\n\\nOmniClass Title Centrifugal Pumps Centrifugal Pumps Centrifugal Pumps Centrifugal Pumps Centrifugal Pumps Centrifugal Pumps\\n\\nMark P-1 P-2 P-3 P-4 P-5 P-6\\n\\nOmniClass Number\\n\\n23.33.31.19.11.15 23.33.31.19.11.15\",\n",
      "    \"metadata\": {\n",
      "      \"file_url\": \"https://syystorage.blob.core.windows.net/open-operator-2/2023-12-30_DC%20Office_Mechanical.pdf\",\n",
      "      \"filename\": \"2023-12-30_DC Office_Mechanical.pdf\",\n",
      "      \"filetype\": \"application/pdf\",\n",
      "      \"languages\": [\n",
      "        \"eng\"\n",
      "      ],\n",
      "      \"page_number\": 7,\n",
      "      \"facility_uri\": \"https://openoperator.com/setty%20engineering%20test/dc%20office\",\n",
      "      \"portfolio_uri\": \"https://openoperator.com/setty%20engineering%20test\"\n",
      "    }\n",
      "  },\n",
      "  {\n",
      "    \"content\": \"AC-2 Mitsubishi Electric\\n\\nAC-3 Mitsubishi Electric\\n\\nOmniClass Number\\n\\n23.33.49.11.11 23.33.49.11.11 23.33.49.11.11 23.33.49.11.11 23.33.49.23.13 23.33.49.23.13 23.33.49.23.13 23.33.49.23.15\\n\\nOmniClass Title\\n\\nCeiling Ventilation Diffusers Ceiling Ventilation Diffusers Ceiling Ventilation Diffusers Ceiling Ventilation Diffusers Return Air Grilles Return Air Grilles Return Air Grilles Supply Air Grilles\\n\\nMark\\n\\nCD-1 CD-2 CD-3 RD-1 RG-1 RG-2 RG-3 SG-1\\n\\nAir Flow\\n\\n175 CFM 325 CFM 380 CFM 450 CFM 3500 CFM 150 CFM 150 CFM 450 CFM\",\n",
      "    \"metadata\": {\n",
      "      \"file_url\": \"https://syystorage.blob.core.windows.net/open-operator-2/2023-12-30_DC%20Office_Mechanical.pdf\",\n",
      "      \"filename\": \"2023-12-30_DC Office_Mechanical.pdf\",\n",
      "      \"filetype\": \"application/pdf\",\n",
      "      \"languages\": [\n",
      "        \"eng\"\n",
      "      ],\n",
      "      \"page_number\": 7,\n",
      "      \"facility_uri\": \"https://openoperator.com/setty%20engineering%20test/dc%20office\",\n",
      "      \"portfolio_uri\": \"https://openoperator.com/setty%20engineering%20test\"\n",
      "    }\n",
      "  },\n",
      "  {\n",
      "    \"content\": \"UNO\\n\\nUV\\n\\nV\\n\\nVAV\\n\\nVFD\\n\\nW WB WC\\n\\nWMS\\n\\nWPD W/ W/O\\n\\nUNLESS NOTED OTHERWISE\\n\\nUNIT VENTILATOR\\n\\nVALVE (MOTORIZED)\\n\\nVARIABLE AIR VOLUME\\n\\nVARIABLE FREQUENCY/SPEED DRIVE\\n\\nWATT WET BULB WATER COLUMN\\n\\nWIRE MESH SCREEN\\n\\nWATER PRESSURE DROP WITH WITHOUT\\n\\nDRY BULB DIRECT DIGITAL CONTROL DIGITAL INPUT DIAMETER DOWN DAMPER OPERATOR DIGITAL OUTPUT DIFFERENTIAL PRESSURE SWITCH DRAWING\\n\\nNOTE: ALL ABBREVIATIONS MAY NOT APPEAR ON THE\\n\\nDRAWINGS.\\n\\nEACH ENTERING AIR TEMPERATURE\\n\\nELECTRIC DUCT HEATER EXHAUST FAN EQUIPMENT EXISTING TO REMAIN ELECTRIC UNIT HEATER ENTERING WATER TEMPERATURE EXISTING EXTERNAL EXAMPLE\",\n",
      "    \"metadata\": {\n",
      "      \"file_url\": \"https://syystorage.blob.core.windows.net/open-operator-2/2023-12-30_DC%20Office_Mechanical.pdf\",\n",
      "      \"filename\": \"2023-12-30_DC Office_Mechanical.pdf\",\n",
      "      \"filetype\": \"application/pdf\",\n",
      "      \"languages\": [\n",
      "        \"eng\"\n",
      "      ],\n",
      "      \"page_number\": 1,\n",
      "      \"facility_uri\": \"https://openoperator.com/setty%20engineering%20test/dc%20office\",\n",
      "      \"portfolio_uri\": \"https://openoperator.com/setty%20engineering%20test\"\n",
      "    }\n",
      "  },\n",
      "  {\n",
      "    \"content\": \"OmniClass Number\\n\\n23.33.31.19.11.17\\n\\nOmniClass Title\\n\\nPropeller Fans\\n\\nMark EF-3\\n\\nMotor Speed\\n\\n1160\\n\\nFan Wheel Speed 0\\n\\nDrive Type\\n\\nDIRECT\\n\\nActual Discharge Position\\n\\nHORIZONTAL - EXHAUST\\n\\nConfig External Static Pressure 0.00 in-wg\\n\\nConfig Total Air Flow 0 CFM\\n\\nConfig Total Static Pressure 0.00 in-wg\\n\\nInlet Sones\\n\\n28\\n\\nPhase Number\\n\\n3\\n\\nVoltage\\n\\n460 V\\n\\nMotor FLA\\n\\n0 A\\n\\nFrequency\\n\\n0 Hz\\n\\nModel\\n\\nAER-E30C-622-B20\\n\\nManufacturer\\n\\nGREENHECK\\n\\nComments\\n\\nPROPELLER FAN\\n\\nSPLIT SYSTEM OUTDOOR UNIT SCHEDULE\\n\\nSPLIT SYSTEM INDOOR UNIT SCHEDULE\",\n",
      "    \"metadata\": {\n",
      "      \"file_url\": \"https://syystorage.blob.core.windows.net/open-operator-2/2023-12-30_DC%20Office_Mechanical.pdf\",\n",
      "      \"filename\": \"2023-12-30_DC Office_Mechanical.pdf\",\n",
      "      \"filetype\": \"application/pdf\",\n",
      "      \"languages\": [\n",
      "        \"eng\"\n",
      "      ],\n",
      "      \"page_number\": 7,\n",
      "      \"facility_uri\": \"https://openoperator.com/setty%20engineering%20test/dc%20office\",\n",
      "      \"portfolio_uri\": \"https://openoperator.com/setty%20engineering%20test\"\n",
      "    }\n",
      "  },\n",
      "  {\n",
      "    \"content\": \"l\\n\\nC\\n\\n1 M202\\n\\n3 M202\\n\\nAHU-1\\n\\nAHU-2\\n\\nCV-21\\n\\nOFFICE 101 291 SF\\n\\nCV-22\\n\\nCV-23\\n\\nCV-24\\n\\nOFFICE 114 308 SF\\n\\nCV-25\\n\\nCV-26\\n\\nCV-27\\n\\nCV-28\\n\\nUPPER LEVEL PLAN - MECHANICAL PIPING SCALE:\\n\\n1 : 50\\n\\n0\\n\\n2'\\n\\n4'\\n\\n8'\\n\\nCV-33\\n\\nCV-34\\n\\nCV-35\\n\\nVESTIBULE CONVECTOR SECTIONAL VIEW - LEFT SCALE:\\n\\n1/2\\\" = 1'-0\\\"\\n\\n0\\n\\n2'\\n\\n4'\\n\\n8'\\n\\nCV-49\\n\\nCV-48\\n\\nOFFICE 102 108 SF\\n\\nOFFICE 113 69 SF\\n\\nCV-29\\n\\nCV-30\\n\\nCEILING 2 CEILING 2 19'-6\\\" 19'-6\\\"\\n\\nUPPER LEVEL UPPER LEVEL 12'-0\\\" 12'-0\\\"\\n\\nCV-47\\n\\nCV-31\\n\\nOFFICE 103 102 SF\\n\\nOFFICE 112 71 SF\\n\\nCV-46\\n\\nRoom 115 372 SF\\n\\nCV-32\\n\\n4 M202\",\n",
      "    \"metadata\": {\n",
      "      \"file_url\": \"https://syystorage.blob.core.windows.net/open-operator-2/2023-12-30_DC%20Office_Mechanical.pdf\",\n",
      "      \"filename\": \"2023-12-30_DC Office_Mechanical.pdf\",\n",
      "      \"filetype\": \"application/pdf\",\n",
      "      \"languages\": [\n",
      "        \"eng\"\n",
      "      ],\n",
      "      \"page_number\": 5,\n",
      "      \"facility_uri\": \"https://openoperator.com/setty%20engineering%20test/dc%20office\",\n",
      "      \"portfolio_uri\": \"https://openoperator.com/setty%20engineering%20test\"\n",
      "    }\n",
      "  },\n",
      "  {\n",
      "    \"content\": \"WATTS DETA 12 TANK VOLUME - 5 GAL\\n\\nNATURAL GAS EQUIPMENT SCHEDULE\\n\\nID\\n\\nDESCRIPTION\\n\\nQUANTITY\\n\\nMBH/HR\\n\\nPIPE CONNECTION\\n\\nPRV DETAILS\\n\\nGAS SERVICE\\n\\nEQUIPMENT LOCATION\\n\\nDWH-1\\n\\nF-6\\n\\nBOILER\\n\\nAHU-1\\n\\nAHU-2\\n\\nDOMESTIC WATER HEATER\\n\\nGAS RANGE\\n\\nBOILER\\n\\nAIR HANDILING\\n\\nAIR HANDILING\\n\\n1\\n\\n1\\n\\n1\\n\\n1\\n\\n1\\n\\n40\\n\\n120\\n\\n410\\n\\n180\\n\\n180\\n\\n3/4\\\"\\n\\n3/4\\\"\\n\\n1\\\"\\n\\n3/4\\\"\\n\\n3/4\\\"\\n\\nPRV WITH VENT LIMITERS, NO PRV VENTING REQUIRED PRV WITH VENT LIMITERS, NO PRV VENTING REQUIRED PRV WITH VENT LIMITERS, NO PRV VENTING REQUIRED PRV WITH VENT LIMITERS, NO PRV VENTING REQUIRED PRV WITH VENT LIMITERS, NO PRV VENTING REQUIRED\",\n",
      "    \"metadata\": {\n",
      "      \"file_url\": \"https://syystorage.blob.core.windows.net/open-operator-2/2023-12-30_DC%20Office_Plumbing.pdf\",\n",
      "      \"filename\": \"2023-12-30_DC Office_Plumbing.pdf\",\n",
      "      \"filetype\": \"application/pdf\",\n",
      "      \"languages\": [\n",
      "        \"eng\"\n",
      "      ],\n",
      "      \"page_number\": 6,\n",
      "      \"facility_uri\": \"https://openoperator.com/setty%20engineering%20test/dc%20office\",\n",
      "      \"portfolio_uri\": \"https://openoperator.com/setty%20engineering%20test\"\n",
      "    }\n",
      "  },\n",
      "  {\n",
      "    \"content\": \"P\\n\\nSHEET NO. OF\\n\\n03\\n\\n07\\n\\n3 2 0 2 \\u00a9\\n\\n1 P103\\n\\n1\\\" G\\n\\nAHU-1 180 MBH\\n\\n1\\\" G\\n\\nOFFICE 101 291 SF\\n\\nOFFICE 114 308 SF\\n\\nUPPER LEVEL PLAN - PLUMBING SCALE:\\n\\n1/4\\\" = 1'-0\\\"\\n\\n0\\n\\n2'\\n\\n4'\\n\\nG\\n\\n1\\n\\n1\\\" G\\n\\n8'\\n\\nAHU-2 180 MBH\\n\\nOFFICE 102 108 SF\\n\\nOFFICE 113 69 SF\\n\\n3/4\\\" CW FROM BELOW 3/4\\\" CW FROM BELOW OFFICE 103 102 SF\\n\\n1/2\\\" G FROM BELOW\\n\\n1/2\\\" CW & HW FROM BELOW\\n\\nRoom 115 372 SF\\n\\nOFFICE 112 71 SF\\n\\nRESTROOM 105 30 SF\\n\\n2\\\" V\\n\\nF-1\\n\\nF-2\\n\\nF-1\\n\\nF-2\\n\\nRESTROOM 104 36 SF\\n\\nVESTIBULE 111 53 SF\\n\\n2\\\" V\\n\\nKITCHEN 106 115 SF\\n\\n2\\\" V\\n\\n1/2\\\" CW & HW FROM BELOW\",\n",
      "    \"metadata\": {\n",
      "      \"file_url\": \"https://syystorage.blob.core.windows.net/open-operator-2/2023-12-30_DC%20Office_Plumbing.pdf\",\n",
      "      \"filename\": \"2023-12-30_DC Office_Plumbing.pdf\",\n",
      "      \"filetype\": \"application/pdf\",\n",
      "      \"languages\": [\n",
      "        \"eng\"\n",
      "      ],\n",
      "      \"page_number\": 3,\n",
      "      \"facility_uri\": \"https://openoperator.com/setty%20engineering%20test/dc%20office\",\n",
      "      \"portfolio_uri\": \"https://openoperator.com/setty%20engineering%20test\"\n",
      "    }\n",
      "  }\n",
      "]\n",
      "Based on the documents found, here is a table summarizing the schedule for the Air Handling Units (AHUs) in your facility:\n",
      "\n",
      "| Mark  | Fuel Type   | Internal Efficiency (%) | Max External Static Pressure | CFM (nominal) | Heating Input Max | Heating Output Capacity | EER  | Compressor A LRA |\n",
      "|-------|-------------|-------------------------|------------------------------|---------------|-------------------|-------------------------|------|-------------------|\n",
      "| AHU-1 | NATURAL GAS | 82                      | 1\" W.C                       | 0 CFM         | 224000 BTU/Hr     | 140000 BTU/Hr           | 10.8 | 123               |\n",
      "| AHU-2 | NATURAL GAS | 82                      | 1\" W.C                       | 0 CFM         | 224000 BTU/Hr     | 184000 BTU/Hr           | 10.8 | 123               |\n",
      "\n",
      "This information was extracted from the document titled \"2023-12-30_DC Office_Mechanical.pdf\" available [here](https://syystorage.blob.core.windows.net/open-operator-2/2023-12-30_DC%20Office_Mechanical.pdf). Please note that the CFM (Cubic Feet per Minute) for both units is listed as 0 CFM, which might be an error or placeholder in the document. For accurate operational parameters, it's recommended to consult the manufacturer's specifications or contact a professional for verification."
     ]
    }
   ],
   "source": [
    "messages = [\n",
    "    {\n",
    "        \"role\": \"user\",\n",
    "        \"content\": \"create a table of my air handling units schedule\"\n",
    "    }\n",
    "]\n",
    "for response in operator.chat(messages, portfolio, facility, verbose=True):\n",
    "    print(response, flush=True, end=\"\")"
   ]
  },
  {
   "cell_type": "code",
   "execution_count": null,
   "metadata": {},
   "outputs": [],
   "source": []
  }
 ],
 "metadata": {
  "kernelspec": {
   "display_name": "venv",
   "language": "python",
   "name": "python3"
  },
  "language_info": {
   "codemirror_mode": {
    "name": "ipython",
    "version": 3
   },
   "file_extension": ".py",
   "mimetype": "text/x-python",
   "name": "python",
   "nbconvert_exporter": "python",
   "pygments_lexer": "ipython3",
   "version": "3.10.6"
  }
 },
 "nbformat": 4,
 "nbformat_minor": 2
}
