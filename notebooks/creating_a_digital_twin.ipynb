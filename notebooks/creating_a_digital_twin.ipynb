{
 "cells": [
  {
   "cell_type": "markdown",
   "metadata": {},
   "source": [
    "# Create a Digital Twin "
   ]
  },
  {
   "cell_type": "code",
   "execution_count": 1,
   "metadata": {},
   "outputs": [
    {
     "data": {
      "text/plain": [
       "True"
      ]
     },
     "execution_count": 1,
     "metadata": {},
     "output_type": "execute_result"
    }
   ],
   "source": [
    "import sys\n",
    "sys.path.insert(0, '../') \n",
    "from dotenv import load_dotenv\n",
    "load_dotenv()"
   ]
  },
  {
   "cell_type": "code",
   "execution_count": 2,
   "metadata": {},
   "outputs": [],
   "source": [
    "from openoperator import OpenOperator\n",
    "operator = OpenOperator()"
   ]
  },
  {
   "cell_type": "code",
   "execution_count": 3,
   "metadata": {},
   "outputs": [
    {
     "name": "stdout",
     "output_type": "stream",
     "text": [
      "ec54278c-6a2e-4269-9613-c6081955bf70\n"
     ]
    }
   ],
   "source": [
    "# Create a portfolio\n",
    "portfolio = operator.create_portfolio('My Portfolio')\n",
    "print(portfolio.portfolio_id)"
   ]
  },
  {
   "cell_type": "code",
   "execution_count": 4,
   "metadata": {},
   "outputs": [],
   "source": [
    "# Create a facility\n",
    "facility = portfolio.create_facility('My Facility')"
   ]
  },
  {
   "cell_type": "code",
   "execution_count": 5,
   "metadata": {},
   "outputs": [],
   "source": [
    "# Upload all files in a directory for the building\n",
    "with open('../data/Mechanical_NYC TEAM.pdf', 'rb') as file:\n",
    "    file_content = file.read()\n",
    "    facility.upload_document(file_content, 'Mechanical_NYC TEAM.pdf')"
   ]
  },
  {
   "cell_type": "code",
   "execution_count": 11,
   "metadata": {},
   "outputs": [
    {
     "data": {
      "text/plain": [
       "[{'content': 'V V VAV VFD VSD VRF VRV\\n\\nTERMINAL TEMPERATURE TRANSFER FAN TEMPERATURE SENSOR TOTAL STATIC PRESSURE TYPICAL TOILET EXHAUST FAN\\n\\nVOLT VALVE (MOTORIZED) VARIABLE AIR VOLUME VARIABLE FREQUENCY DRIVE VARIABLE SPEED DRIVE VARIABLE REFRIGERANT FLOW VARIABLE REFRIGERANT VOLUME\\n\\nISMRE\\n\\nIN\\n\\nJAN\\n\\nINTEGRATED SEASONAL MOISTURE REMOVAL EFFICIENCY INCH\\n\\nJANITOR\\n\\nW WB WC W/ W/O WMS\\n\\nWATT WET BULB WATER COLUMN WITH WITHOUT WIRE MESH SCREEN\\n\\nKW KEF\\n\\nKILOWATT KITCHEN EXHAUST FAN',\n",
       "  'metadata': {'file_url': 'https://syystorage.blob.core.windows.net/open-operator-2/Mechanical_NYC%20TEAM.pdf',\n",
       "   'filename': 'Mechanical_NYC TEAM.pdf',\n",
       "   'filetype': 'application/pdf',\n",
       "   'languages': ['eng'],\n",
       "   'facility_id': '3d00fbbc-12aa-4cce-a0f4-d7ef3d331895',\n",
       "   'page_number': 1,\n",
       "   'portfolio_id': 'ec54278c-6a2e-4269-9613-c6081955bf70'}},\n",
       " {'content': '0 0 0 0 0 0 0 0 0 0 0 0 0 0 0 0 0 0 0 0 0 0 0 0 0 0\\n\\nType 16 Diameter 16 Diameter 12x12 12x12 12x12 12x12 12x12 12x12 12x12 24x24 24x24 24x24 24x24 24x24 12x12 12x12 12x12 12x12 24x24 16x16 12x12 12x12 12x12 24x08 24x08 24x08 24x08 16 Diameter\\n\\nSUPPLY FAN\\n\\nLOCATION ROOF\\n\\nROOF\\n\\nSUPPLY AIR 5000\\n\\n5000\\n\\nOUTDOOR AIR -\\n\\nAIRFLOW(CFM) 5000\\n\\n5000\\n\\nQTY. 1\\n\\n1\\n\\nMOTOR TYPE VPD PREMIUM EFFICIENCY VPD PREMIUM EFFICIENCY\\n\\nDRIVE TYPE DIRECT DRIVE DIRECT DRIVE\\n\\nINTEGRATED HEAT CAPACITY 107.7 107.7',\n",
       "  'metadata': {'file_url': 'https://syystorage.blob.core.windows.net/open-operator-2/Mechanical_NYC%20TEAM.pdf',\n",
       "   'filename': 'Mechanical_NYC TEAM.pdf',\n",
       "   'filetype': 'application/pdf',\n",
       "   'languages': ['eng'],\n",
       "   'facility_id': '3d00fbbc-12aa-4cce-a0f4-d7ef3d331895',\n",
       "   'page_number': 4,\n",
       "   'portfolio_id': 'ec54278c-6a2e-4269-9613-c6081955bf70'}}]"
      ]
     },
     "execution_count": 11,
     "metadata": {},
     "output_type": "execute_result"
    }
   ],
   "source": [
    "# Search for metadata in documents\n",
    "docs = facility.search_documents(\"Exhaust fan\", limit=2)\n",
    "docs"
   ]
  },
  {
   "cell_type": "code",
   "execution_count": null,
   "metadata": {},
   "outputs": [],
   "source": []
  }
 ],
 "metadata": {
  "kernelspec": {
   "display_name": "venv",
   "language": "python",
   "name": "python3"
  },
  "language_info": {
   "codemirror_mode": {
    "name": "ipython",
    "version": 3
   },
   "file_extension": ".py",
   "mimetype": "text/x-python",
   "name": "python",
   "nbconvert_exporter": "python",
   "pygments_lexer": "ipython3",
   "version": "3.10.6"
  }
 },
 "nbformat": 4,
 "nbformat_minor": 2
}
