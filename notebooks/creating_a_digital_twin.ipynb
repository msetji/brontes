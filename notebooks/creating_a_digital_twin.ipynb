{
 "cells": [
  {
   "cell_type": "markdown",
   "metadata": {},
   "source": [
    "# Creating a Operator"
   ]
  },
  {
   "cell_type": "code",
   "execution_count": 194,
   "metadata": {},
   "outputs": [
    {
     "name": "stdout",
     "output_type": "stream",
     "text": [
      "The autoreload extension is already loaded. To reload it, use:\n",
      "  %reload_ext autoreload\n"
     ]
    }
   ],
   "source": [
    "import sys\n",
    "sys.path.insert(0, '../') \n",
    "from dotenv import load_dotenv\n",
    "load_dotenv()\n",
    "%load_ext autoreload\n",
    "%autoreload 2"
   ]
  },
  {
   "cell_type": "code",
   "execution_count": 195,
   "metadata": {},
   "outputs": [],
   "source": [
    "# Use the different modules to create an operator instance\n",
    "from openoperator import OpenOperator\n",
    "from openoperator import BlobStore\n",
    "from openoperator import DocumentLoader\n",
    "from openoperator import VectorStore\n",
    "from openoperator import Embeddings\n",
    "from openoperator import KnowledgeGraph\n",
    "from openoperator import LLM\n",
    "\n",
    "blob_store = BlobStore()\n",
    "document_loader = DocumentLoader() # used to extract text from documents\n",
    "embeddings = Embeddings()\n",
    "vector_store = VectorStore(embeddings=embeddings)\n",
    "knowledge_graph = KnowledgeGraph()\n",
    "llm = LLM()\n",
    "\n",
    "\n",
    "operator = OpenOperator(\n",
    "    blob_store=blob_store,\n",
    "    document_loader=document_loader,\n",
    "    vector_store=vector_store,\n",
    "    embeddings=embeddings,\n",
    "    knowledge_graph=knowledge_graph,\n",
    "    llm=llm\n",
    ")"
   ]
  },
  {
   "cell_type": "code",
   "execution_count": 196,
   "metadata": {},
   "outputs": [
    {
     "name": "stdout",
     "output_type": "stream",
     "text": [
      "https://openoperator.com/Anthonys%20Building%20Portfolio%20test%202\n"
     ]
    }
   ],
   "source": [
    "# Create a portfolio\n",
    "portfolio = operator.create_portfolio('Anthonys Building Portfolio test 2')\n",
    "print(portfolio.uri)"
   ]
  },
  {
   "cell_type": "code",
   "execution_count": 197,
   "metadata": {},
   "outputs": [
    {
     "data": {
      "text/plain": [
       "'https://openoperator.com/Anthonys%20Building%20Portfolio%20test%202/My%20Facility'"
      ]
     },
     "execution_count": 197,
     "metadata": {},
     "output_type": "execute_result"
    }
   ],
   "source": [
    "# Create a facility\n",
    "facility = portfolio.create_facility('My Facility')\n",
    "facility.uri"
   ]
  },
  {
   "cell_type": "code",
   "execution_count": 206,
   "metadata": {},
   "outputs": [
    {
     "name": "stdout",
     "output_type": "stream",
     "text": [
      "application/pdf\n"
     ]
    }
   ],
   "source": [
    "# Upload all files in a directory for the building\n",
    "import mimetypes\n",
    "file_type = mimetypes.guess_type('../data/Mechanical_NYC TEAM.pdf')\n",
    "with open('../data/Mechanical_NYC TEAM.pdf', 'rb') as file:\n",
    "    file_content = file.read()\n",
    "    facility.upload_document(file_content, 'Mechanical_NYC TEAM.pdf', file_type=file_type[0])"
   ]
  },
  {
   "cell_type": "code",
   "execution_count": 201,
   "metadata": {},
   "outputs": [
    {
     "data": {
      "text/plain": [
       "[{'content': '3FL-NT 3FL-NT 3FL-NT 3FL-NT TMR-AA\\n\\nSUPPLY FAN\\n\\nESP (IN.WC) 2.50\\n\\nTSP (IN.WC) 4.10\\n\\nMOTOR (RPM) MOTOR (HP) FAN (BHP)\\n\\n1760\\n\\n10\\n\\n6.96\\n\\nFLA 30.8\\n\\n2.50\\n\\n4.10\\n\\n1760\\n\\n10\\n\\n6.96\\n\\n30.8\\n\\nSUPPLEMENTAL ELECTRIC DATA\\n\\nCAPACITY (KW) 45.1 45.1\\n\\nEAT DB (°F) 58.9 58.9\\n\\nLAT DB (°F) 80.8 80.8\\n\\nAPD (IN. WC) 0.17 0.17\\n\\nEXHAUST FAN SCHEDULE\\n\\nFAN\\n\\nMOTOR\\n\\nUNIT MARK SERVICE\\n\\nEF-1\\n\\nEF-2\\n\\nUPPER LEVEL TIOLET UPPER LEVEL TIOLET\\n\\nEF-3\\n\\nEF-4\\n\\nLOWER LEVEL EXISTIG RESTROO M LOWER LEVEL EXISTIG RESTROO M\\n\\nLOCATION UPPER LEVEL TIOLET',\n",
       "  'metadata': {'file_url': 'https://syystorage.blob.core.windows.net/open-operator-2/Mechanical_NYC%20TEAM.pdf',\n",
       "   'filename': 'Mechanical_NYC TEAM.pdf',\n",
       "   'filetype': 'application/pdf',\n",
       "   'languages': ['eng'],\n",
       "   'facility_id': 'd2415cb2-04d0-4e8b-9dee-d21102bcfcdf',\n",
       "   'page_number': 4,\n",
       "   'portfolio_id': 'eb79820a-f7bb-45ef-bf04-88c5b7f172ca'}},\n",
       " {'content': 'OA OAT OED\\n\\nOUTSIDE AIR OUTSIDE AIR TEMPERATURE OPEN END DUCT\\n\\nDB DI DL DN DO DO DOAS DPS DS DWG DX DWEF\\n\\nEA EAT ECP EDH EER EF EG EP EQUIP ESP EUH\\n\\nF FCU FD FSD FL FLA FPM FS FT FT FZ\\n\\nDRY BULB DIGITAL INPUT DRUM LOUVER DOWN DAMPER OPERATOR DIGITAL OUTPUT DEDICATED OUTSIDE AIR SYSTEM DIFFERENTIAL PRESSURE SWITCH DUCT SILENCER DRAWING DIRECT EXPANSION DISH WASHER EXHAUST FAN\\n\\nEACH ENTERING AIR TEMPERATURE ELECTRICAL CONTROL PANEL ELECTRIC DUCT HEATER ENERGY EFFICIENCY RATIO EXHAUST FAN EXHAUST GRILLE ELECTRICAL PANEL EQUIPMENT EXTERNAL STATIC PRESSURE ELECTRIC UNIT HEATER\\n\\nFAHRENHEIT FAN COIL UNIT FIRE DAMPER FIRE/SMOKE DAMPER FLOOR FULL LOAD AMPS FEET PER MINUTE FLOW SENSOR FEET FLASH TANK FREEZE STAT',\n",
       "  'metadata': {'file_url': 'https://syystorage.blob.core.windows.net/open-operator-2/Mechanical_NYC%20TEAM.pdf',\n",
       "   'filename': 'Mechanical_NYC TEAM.pdf',\n",
       "   'filetype': 'application/pdf',\n",
       "   'languages': ['eng'],\n",
       "   'facility_id': 'd2415cb2-04d0-4e8b-9dee-d21102bcfcdf',\n",
       "   'page_number': 1,\n",
       "   'portfolio_id': 'eb79820a-f7bb-45ef-bf04-88c5b7f172ca'}}]"
      ]
     },
     "execution_count": 201,
     "metadata": {},
     "output_type": "execute_result"
    }
   ],
   "source": [
    "# Search for metadata in documents\n",
    "docs = facility.search_documents(\"EF-1\", limit=2)\n",
    "docs"
   ]
  },
  {
   "cell_type": "code",
   "execution_count": 200,
   "metadata": {},
   "outputs": [
    {
     "name": "stdout",
     "output_type": "stream",
     "text": [
      "No errors found in the spreadsheet.\n",
      "Processing Floor sheet...\n",
      "Processing Space sheet...\n",
      "Processing Type sheet...\n",
      "Processing Component sheet...\n",
      "Processing System sheet...\n",
      "Processing Attribute sheet...\n"
     ]
    },
    {
     "data": {
      "text/plain": [
       "'https://syystorage.blob.core.windows.net/open-operator-2/d2415cb2-04d0-4e8b-9dee-d21102bcfcdf_cobie.ttl'"
      ]
     },
     "execution_count": 200,
     "metadata": {},
     "output_type": "execute_result"
    }
   ],
   "source": [
    "# Upload cobie spreadsheet, this also runs validation on the spreadsheet\n",
    "facility.upload_cobie_spreadsheet(\"../data/Autodesk COBie Revit.xlsx\")"
   ]
  },
  {
   "cell_type": "code",
   "execution_count": null,
   "metadata": {},
   "outputs": [],
   "source": []
  }
 ],
 "metadata": {
  "kernelspec": {
   "display_name": "venv",
   "language": "python",
   "name": "python3"
  },
  "language_info": {
   "codemirror_mode": {
    "name": "ipython",
    "version": 3
   },
   "file_extension": ".py",
   "mimetype": "text/x-python",
   "name": "python",
   "nbconvert_exporter": "python",
   "pygments_lexer": "ipython3",
   "version": "3.10.6"
  }
 },
 "nbformat": 4,
 "nbformat_minor": 2
}
